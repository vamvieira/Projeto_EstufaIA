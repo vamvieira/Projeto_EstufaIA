{
  "nbformat": 4,
  "nbformat_minor": 0,
  "metadata": {
    "colab": {
      "provenance": [],
      "mount_file_id": "19ung0Bk7KB1iFbzgAvCVAJr-TDEwpZBk",
      "authorship_tag": "ABX9TyMY9RFyj2ibKCD1wIE1MC+8",
      "include_colab_link": true
    },
    "kernelspec": {
      "name": "python3",
      "display_name": "Python 3"
    },
    "language_info": {
      "name": "python"
    }
  },
  "cells": [
    {
      "cell_type": "markdown",
      "metadata": {
        "id": "view-in-github",
        "colab_type": "text"
      },
      "source": [
        "<a href=\"https://colab.research.google.com/github/vamvieira/Projeto_EstufaIA/blob/main/Projeto_Estufa_IA.ipynb\" target=\"_parent\"><img src=\"https://colab.research.google.com/assets/colab-badge.svg\" alt=\"Open In Colab\"/></a>"
      ]
    },
    {
      "cell_type": "markdown",
      "source": [
        "Olá Me chamo Vitor Magalhães, estou começando na área de Ciência de Dados e IA.\n",
        "Me formei na Fiap em SI 2023.\n",
        "\n",
        "Problema: Muitos fazendeiros de estufa agrícola perdem seu tempo ligando e pagando para empresas de agrotóxicos para verificar o estado das plantas, principalmente quando ocorre uma caracteristica incomum nas plantas, com este problemas muitos donos da estufa agrícola precisa pagar um valor pela visita ao local para verificar o que está ocorrendo com a planta.\n",
        "\n",
        "Além de demorar ao local e ser necessário pagar um valor para esta visita, meu intuito é criar um modelo CNN que analisa as imagens enviadas pelo fazendeiro, e o modelo possa auxiliar dizendo se é saudavel ou não o estado da planta, a principio o modelo LLM irá apenas responder de forma básica, mas a intensão é aumentar a accuracy, realizando muito mais, sobre qual tipo da doença a planta está passando e qual o tratamento.\n",
        "\n",
        "Auxiliando de forma rápida as estufas, não impactando no tempo e principalmente na possivel perda do fruto.\n",
        "\n",
        "O modelo criado foi baseado em uma estufa de pepino, utilizei fotos de um projeto no Kaggle [Cucumber Greenhouse Dataset](https://www.kaggle.com/datasets/farahseifeld/greenhouse-cucumber-growth-stages)\n",
        "\n",
        "Minha redes\n",
        "\n",
        "[Linkedin](https://www.linkedin.com/in/vitor-magalhaes-vieira/)\n",
        "[Github](https://github.com/vamvieira)"
      ],
      "metadata": {
        "id": "ytmlh70UoLAM"
      }
    },
    {
      "cell_type": "code",
      "execution_count": null,
      "metadata": {
        "id": "jgWXrCaqoj1d",
        "colab": {
          "base_uri": "https://localhost:8080/"
        },
        "outputId": "37735bdd-5eb0-4623-94aa-21482cdc7c4c"
      },
      "outputs": [
        {
          "output_type": "stream",
          "name": "stdout",
          "text": [
            "Divisão dos dados concluída.\n"
          ]
        }
      ],
      "source": [
        "import os\n",
        "import shutil\n",
        "import random\n",
        "\n",
        "# Diretório principal com as subpastas\n",
        "data_dir = \"Pepino_IA\"\n",
        "\n",
        "# Proporções para treino, validação e teste\n",
        "train_ratio = 0.7\n",
        "val_ratio = 0.15\n",
        "test_ratio = 0.15\n",
        "\n",
        "# Cria as pastas de destino\n",
        "os.makedirs(\"treino\", exist_ok=True)\n",
        "os.makedirs(\"validacao\", exist_ok=True)\n",
        "os.makedirs(\"teste\", exist_ok=True)\n",
        "\n",
        "# Cria as subpastas dentro das pastas de destino\n",
        "for category in os.listdir(data_dir):\n",
        "    os.makedirs(os.path.join(\"treino\", category), exist_ok=True)\n",
        "    os.makedirs(os.path.join(\"validacao\", category), exist_ok=True)\n",
        "    os.makedirs(os.path.join(\"teste\", category), exist_ok=True)\n",
        "\n",
        "# Itera pelas subpastas de categorias\n",
        "for category in os.listdir(data_dir):\n",
        "    category_path = os.path.join(data_dir, category)\n",
        "    # Lista as imagens na subpasta\n",
        "    images = os.listdir(category_path)\n",
        "    random.shuffle(images)  # Embaralha as imagens\n",
        "\n",
        "    # Calcula o número de imagens para cada conjunto\n",
        "    train_count = int(len(images) * train_ratio)\n",
        "    val_count = int(len(images) * val_ratio)\n",
        "    test_count = len(images) - train_count - val_count\n",
        "\n",
        "    # Divide as imagens\n",
        "    train_images = images[:train_count]\n",
        "    val_images = images[train_count:train_count + val_count]\n",
        "    test_images = images[train_count + val_count:]\n",
        "\n",
        "    # Copia as imagens para as pastas de destino\n",
        "    for image in train_images:\n",
        "        src_path = os.path.join(category_path, image)\n",
        "        dest_path = os.path.join(\"treino\", category, image)\n",
        "        shutil.copy(src_path, dest_path)\n",
        "\n",
        "    for image in val_images:\n",
        "        src_path = os.path.join(category_path, image)\n",
        "        dest_path = os.path.join(\"validacao\", category, image)\n",
        "        shutil.copy(src_path, dest_path)\n",
        "\n",
        "    for image in test_images:\n",
        "        src_path = os.path.join(category_path, image)\n",
        "        dest_path = os.path.join(\"teste\", category, image)\n",
        "        shutil.copy(src_path, dest_path)\n",
        "\n",
        "print(\"Divisão dos dados concluída.\")"
      ]
    },
    {
      "cell_type": "code",
      "source": [
        "import numpy as np\n",
        "from tensorflow import keras\n",
        "from tensorflow.keras import layers\n",
        "from tensorflow.keras.preprocessing.image import load_img, img_to_array\n",
        "from tensorflow.keras.utils import to_categorical\n",
        "\n",
        "# --- Definir a arquitetura da CNN ---\n",
        "model = keras.Sequential(\n",
        "    [\n",
        "        layers.Conv2D(32, (3, 3), activation=\"relu\", input_shape=(150, 150, 3)),\n",
        "        layers.MaxPooling2D((2, 2)),\n",
        "        layers.Conv2D(64, (3, 3), activation=\"relu\"),\n",
        "        layers.MaxPooling2D((2, 2)),\n",
        "        layers.Conv2D(128, (3, 3), activation=\"relu\"),\n",
        "        layers.MaxPooling2D((2, 2)),\n",
        "        layers.Dropout(0.2),\n",
        "        layers.Flatten(),\n",
        "        layers.Dense(5, activation=\"softmax\")\n",
        "    ]\n",
        ")\n",
        "\n",
        "#Carregar os dados e os rótulos\n",
        "train_images = []\n",
        "train_labels = []\n",
        "val_images = []\n",
        "val_labels = []\n",
        "test_images = []\n",
        "test_labels = []\n",
        "\n",
        "# Definição do tamanho da imagem\n",
        "img_width, img_height = 150, 150"
      ],
      "metadata": {
        "id": "qhXctt0y4OBq"
      },
      "execution_count": null,
      "outputs": []
    },
    {
      "cell_type": "code",
      "source": [
        "#Criar um dicionário para mapear categorias para números inteiros\n",
        "category_mapping = {\n",
        "    'Healthy_Leaves': 0,\n",
        "    'Unhealthy_Leaves': 1\n",
        "}\n",
        "\n",
        "for dataset in [\"treino\", \"validacao\", \"teste\"]:\n",
        "    for category in os.listdir(os.path.join(dataset)):\n",
        "        category_path = os.path.join(dataset, category)\n",
        "        for filename in os.listdir(category_path):\n",
        "            if filename.endswith(\".jpg\") or filename.endswith(\".png\"):\n",
        "                img_path = os.path.join(category_path, filename)\n",
        "                img = load_img(img_path, target_size=(img_width, img_height))\n",
        "                img_array = img_to_array(img)\n",
        "                if dataset == \"treino\":\n",
        "                    train_images.append(img_array)\n",
        "                    train_labels.append(category_mapping[category])\n",
        "                elif dataset == \"validacao\":\n",
        "                    val_images.append(img_array)\n",
        "                    val_labels.append(category_mapping[category])\n",
        "                else:\n",
        "                    test_images.append(img_array)\n",
        "                    test_labels.append(category_mapping[category])"
      ],
      "metadata": {
        "id": "7_hizwnU8KW_"
      },
      "execution_count": null,
      "outputs": []
    },
    {
      "cell_type": "code",
      "source": [
        "# Converter para arrays NumPy para o treinamento\n",
        "train_images = np.array(train_images)\n",
        "val_images = np.array(val_images)\n",
        "test_images = np.array(test_images)\n",
        "\n",
        "#Converter os rótulos para one-hot encoding\n",
        "train_labels = to_categorical(train_labels, num_classes=5)  # Especifica o número de classes\n",
        "val_labels = to_categorical(val_labels, num_classes=5)  # Especifica o número de classes\n",
        "test_labels = to_categorical(test_labels, num_classes=5)  # Especifica o número de classes"
      ],
      "metadata": {
        "id": "rY1eNiru8NT1"
      },
      "execution_count": null,
      "outputs": []
    },
    {
      "cell_type": "code",
      "source": [
        "#Compilar o modelo\n",
        "model.compile(loss=\"categorical_crossentropy\", optimizer=\"adam\", metrics=[\"accuracy\"])\n",
        "\n",
        "#Treinar o modelo\n",
        "model.fit(train_images, train_labels, epochs=10, validation_data=(val_images, val_labels))\n",
        "\n",
        "from keras.preprocessing.image import ImageDataGenerator\n",
        "\n",
        "# Crie um gerador de aumento de dados\n",
        "datagen = ImageDataGenerator(\n",
        "    rotation_range=20,\n",
        "    width_shift_range=0.2,\n",
        "    height_shift_range=0.2,\n",
        "    shear_range=0.2,\n",
        "    zoom_range=0.2,\n",
        "    horizontal_flip=True,\n",
        "    fill_mode='nearest'\n",
        ")\n",
        "\n",
        "# Utilize o gerador durante o treinamento\n",
        "model.fit(datagen.flow(train_images, train_labels, batch_size=32), epochs=10, validation_data=(val_images, val_labels))\n",
        "\n",
        "#Avaliar o modelo\n",
        "test_loss, test_acc = model.evaluate(test_images, test_labels)\n",
        "print(f\"Acurácia no conjunto de teste: {test_acc}\")\n",
        "\n",
        "# Salva o modelo\n",
        "model.save(\"modelo_p1.h5\")\n"
      ],
      "metadata": {
        "colab": {
          "base_uri": "https://localhost:8080/"
        },
        "id": "kOS9ZV8z8RBe",
        "outputId": "2a776cf8-2657-4206-dba1-72a22f342880"
      },
      "execution_count": null,
      "outputs": [
        {
          "output_type": "stream",
          "name": "stdout",
          "text": [
            "Epoch 1/10\n",
            "3/3 [==============================] - 5s 1s/step - loss: 1.9423 - accuracy: 0.9195 - val_loss: 1.2049 - val_accuracy: 0.5833\n",
            "Epoch 2/10\n",
            "3/3 [==============================] - 3s 1s/step - loss: 0.5507 - accuracy: 0.8966 - val_loss: 1.7489 - val_accuracy: 0.7500\n",
            "Epoch 3/10\n",
            "3/3 [==============================] - 5s 2s/step - loss: 0.4895 - accuracy: 0.8736 - val_loss: 0.9765 - val_accuracy: 0.8333\n",
            "Epoch 4/10\n",
            "3/3 [==============================] - 4s 1s/step - loss: 0.1896 - accuracy: 0.9310 - val_loss: 0.7558 - val_accuracy: 0.7500\n",
            "Epoch 5/10\n",
            "3/3 [==============================] - 3s 1s/step - loss: 0.1695 - accuracy: 0.9310 - val_loss: 0.5618 - val_accuracy: 0.7500\n",
            "Epoch 6/10\n",
            "3/3 [==============================] - 4s 1s/step - loss: 0.0420 - accuracy: 0.9885 - val_loss: 1.5885 - val_accuracy: 0.5000\n",
            "Epoch 7/10\n",
            "3/3 [==============================] - 6s 2s/step - loss: 0.0821 - accuracy: 0.9885 - val_loss: 0.6240 - val_accuracy: 0.7500\n",
            "Epoch 8/10\n",
            "3/3 [==============================] - 3s 1s/step - loss: 0.0453 - accuracy: 0.9885 - val_loss: 0.9705 - val_accuracy: 0.7500\n",
            "Epoch 9/10\n",
            "3/3 [==============================] - 3s 1s/step - loss: 0.0272 - accuracy: 0.9885 - val_loss: 1.0597 - val_accuracy: 0.7500\n",
            "Epoch 10/10\n",
            "3/3 [==============================] - 4s 1s/step - loss: 0.0133 - accuracy: 1.0000 - val_loss: 0.8293 - val_accuracy: 0.8333\n",
            "Epoch 1/10\n",
            "3/3 [==============================] - 5s 1s/step - loss: 1.0543 - accuracy: 0.6322 - val_loss: 0.3577 - val_accuracy: 0.8333\n",
            "Epoch 2/10\n",
            "3/3 [==============================] - 4s 1s/step - loss: 0.9798 - accuracy: 0.6437 - val_loss: 0.5059 - val_accuracy: 0.8333\n",
            "Epoch 3/10\n",
            "3/3 [==============================] - 5s 2s/step - loss: 0.5592 - accuracy: 0.7586 - val_loss: 0.5552 - val_accuracy: 0.7500\n",
            "Epoch 4/10\n",
            "3/3 [==============================] - 7s 2s/step - loss: 0.6070 - accuracy: 0.7241 - val_loss: 0.5477 - val_accuracy: 0.7500\n",
            "Epoch 5/10\n",
            "3/3 [==============================] - 4s 1s/step - loss: 0.5837 - accuracy: 0.6782 - val_loss: 0.6450 - val_accuracy: 0.5000\n",
            "Epoch 6/10\n",
            "3/3 [==============================] - 5s 2s/step - loss: 1.0948 - accuracy: 0.6207 - val_loss: 1.4979 - val_accuracy: 0.5000\n",
            "Epoch 7/10\n",
            "3/3 [==============================] - 5s 1s/step - loss: 1.1670 - accuracy: 0.7471 - val_loss: 0.7422 - val_accuracy: 0.5000\n",
            "Epoch 8/10\n",
            "3/3 [==============================] - 4s 1s/step - loss: 0.7874 - accuracy: 0.7241 - val_loss: 0.6532 - val_accuracy: 0.6667\n",
            "Epoch 9/10\n",
            "3/3 [==============================] - 5s 2s/step - loss: 0.7904 - accuracy: 0.5977 - val_loss: 1.1341 - val_accuracy: 0.5000\n",
            "Epoch 10/10\n",
            "3/3 [==============================] - 5s 1s/step - loss: 0.6423 - accuracy: 0.7816 - val_loss: 0.6321 - val_accuracy: 0.4167\n",
            "1/1 [==============================] - 0s 161ms/step - loss: 1.0451 - accuracy: 0.5000\n",
            "Acurácia no conjunto de teste: 0.5\n"
          ]
        },
        {
          "output_type": "stream",
          "name": "stderr",
          "text": [
            "/usr/local/lib/python3.10/dist-packages/keras/src/engine/training.py:3103: UserWarning: You are saving your model as an HDF5 file via `model.save()`. This file format is considered legacy. We recommend using instead the native Keras format, e.g. `model.save('my_model.keras')`.\n",
            "  saving_api.save_model(\n"
          ]
        }
      ]
    },
    {
      "cell_type": "code",
      "source": [
        "# Carrega a nova imagem\n",
        "image_path = '/content/testes_pepino/teste1.jpg'\n",
        "img = load_img(image_path, target_size=(img_width, img_height))\n",
        "\n",
        "# Converte a imagem para um array NumPy\n",
        "img_array = img_to_array(img)\n",
        "img_array = np.expand_dims(img_array, axis=0)\n",
        "\n",
        "# Faz a previsão usando o modelo treinado\n",
        "prediction = model.predict(img_array)\n",
        "\n",
        "# Obtém o índice da classe com maior probabilidade\n",
        "predicted_class_index = np.argmax(prediction)\n",
        "\n",
        "# Obtém o nome da classe prevista\n",
        "predicted_class = list(category_mapping.keys())[predicted_class_index]\n",
        "\n",
        "# Imprime a classe prevista\n",
        "print(f\"Classe prevista: {predicted_class}\")"
      ],
      "metadata": {
        "colab": {
          "base_uri": "https://localhost:8080/"
        },
        "id": "DC7mus5GAxKO",
        "outputId": "bc45e3f3-e41a-46b7-e5c3-adca34932bad"
      },
      "execution_count": null,
      "outputs": [
        {
          "output_type": "stream",
          "name": "stdout",
          "text": [
            "1/1 [==============================] - 0s 32ms/step\n",
            "Classe prevista: Unhealthy_Leaves\n"
          ]
        }
      ]
    },
    {
      "cell_type": "markdown",
      "source": [
        "# Verifiquei que algumas imagens não subiram ao testar o modelo, mas ao retestar funcionou, o modelo está prevendo se a planta está saudavel ou não"
      ],
      "metadata": {
        "id": "H5cDoiNxq9Yi"
      }
    },
    {
      "cell_type": "code",
      "source": [
        "import os\n",
        "from tensorflow import keras\n",
        "from tensorflow.keras import layers\n",
        "from tensorflow.keras.preprocessing.image import load_img, img_to_array\n",
        "from tensorflow.keras.utils import to_categorical\n",
        "import numpy as np\n",
        "from sklearn.metrics import confusion_matrix\n",
        "import matplotlib.pyplot as plt\n",
        "import seaborn as sns\n",
        "\n",
        "#Diretório principal com as subpastas\n",
        "data_dir = \"Pepino_IA\"\n",
        "\n",
        "#Parâmetros do modelo\n",
        "img_width, img_height = 150, 150\n",
        "category_mapping = {\n",
        "    'Floweringarrow': 0,\n",
        "    'Fruiting_Healthy': 1,\n",
        "    'Fruiting_Unhealthy': 2,\n",
        "    'Healthy_Leaves': 3,\n",
        "    'Unhealthy_Leaves': 4\n",
        "}\n",
        "\n",
        "#Carregar o modelo\n",
        "model = keras.models.load_model(\"/content/modelo_p1.h5\")\n",
        "\n",
        "#Carregar os dados de teste\n",
        "test_images = []\n",
        "test_labels = []\n",
        "\n",
        "for category in os.listdir(os.path.join(\"teste\")):\n",
        "    category_path = os.path.join(\"teste\", category)\n",
        "    for filename in os.listdir(category_path):\n",
        "        if filename.endswith(\".jpg\") or filename.endswith(\".png\"):\n",
        "            img_path = os.path.join(category_path, filename)\n",
        "            img = load_img(img_path, target_size=(img_width, img_height))\n",
        "            img_array = img_to_array(img)\n",
        "            test_images.append(img_array)\n",
        "            test_labels.append(category_mapping[category])\n",
        "\n",
        "test_images = np.array(test_images)\n",
        "test_labels = to_categorical(test_labels, num_classes=5)\n",
        "\n",
        "#Faz as previsões\n",
        "predictions = model.predict(test_images)\n",
        "\n",
        "#Converte as previsões para classes\n",
        "predicted_classes = np.argmax(predictions, axis=1)\n",
        "true_classes = np.argmax(test_labels, axis=1)\n",
        "\n",
        "#Cria a matriz de confusão\n",
        "cm = confusion_matrix(true_classes, predicted_classes)\n",
        "\n",
        "#Plota a matriz de confusão\n",
        "plt.figure(figsize=(8, 6))\n",
        "sns.heatmap(cm, annot=True, fmt=\"d\", cmap=\"Blues\", xticklabels=category_mapping.keys(), yticklabels=category_mapping.keys())\n",
        "plt.xlabel(\"Classe Prevista\")\n",
        "plt.ylabel(\"Classe Real\")\n",
        "plt.title(\"Matriz de Confusão\")\n",
        "plt.show()"
      ],
      "metadata": {
        "colab": {
          "base_uri": "https://localhost:8080/",
          "height": 698
        },
        "id": "J7wRlR0FBXMQ",
        "outputId": "0a7adde6-14a9-4c95-f0f4-fbc316e5f9fb"
      },
      "execution_count": null,
      "outputs": [
        {
          "output_type": "stream",
          "name": "stdout",
          "text": [
            "1/1 [==============================] - 0s 216ms/step\n"
          ]
        },
        {
          "output_type": "display_data",
          "data": {
            "text/plain": [
              "<Figure size 800x600 with 2 Axes>"
            ],
            "image/png": "[encoded data removed]"
          },
          "metadata": {}
        }
      ]
    },
    {
      "cell_type": "markdown",
      "source": [
        "Treino anterior sem criar um gerador de aumento de dados:\n",
        "\n",
        "datagen = ImageDataGenerator(\n",
        "    rotation_range=20,\n",
        "    width_shift_range=0.2,\n",
        "    height_shift_range=0.2,\n",
        "    shear_range=0.2,\n",
        "    zoom_range=0.2,\n",
        "    horizontal_flip=True,\n",
        "    fill_mode='nearest'\n",
        ")\n",
        "\n",
        "![resultadomodelo.png](data:image/png;base64,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)"
      ],
      "metadata": {
        "id": "N7WMaemBIUQP"
      }
    },
    {
      "cell_type": "code",
      "source": [
        "from sklearn.metrics import precision_score, recall_score, f1_score\n",
        "\n",
        "#(carregar o modelo e os dados de teste)\n",
        "\n",
        "#Modelo\n",
        "model = keras.models.load_model(\"/content/modelo_p1.h5\")\n",
        "\n",
        "#Dados de teste\n",
        "test_images = []\n",
        "test_labels = []\n",
        "\n",
        "for category in os.listdir(os.path.join(\"teste\")):\n",
        "    category_path = os.path.join(\"teste\", category)\n",
        "    for filename in os.listdir(category_path):\n",
        "        if filename.endswith(\".jpg\") or filename.endswith(\".png\"):\n",
        "            img_path = os.path.join(category_path, filename)\n",
        "            img = load_img(img_path, target_size=(img_width, img_height))\n",
        "            img_array = img_to_array(img)\n",
        "            test_images.append(img_array)\n",
        "            test_labels.append(category_mapping[category])\n",
        "\n",
        "test_images = np.array(test_images)\n",
        "test_labels = to_categorical(test_labels, num_classes=5)\n",
        "\n",
        "# Faz as previsões\n",
        "predictions = model.predict(test_images)\n",
        "\n",
        "# Converte as previsões para classes\n",
        "predicted_classes = np.argmax(predictions, axis=1)\n",
        "true_classes = np.argmax(test_labels, axis=1)\n",
        "\n",
        "# Calcula as métricas\n",
        "precision = precision_score(true_classes, predicted_classes, average=None)\n",
        "recall = recall_score(true_classes, predicted_classes, average=None)\n",
        "f1 = f1_score(true_classes, predicted_classes, average=None)\n",
        "\n",
        "# Imprime as métricas para cada classe\n",
        "for i, category in enumerate(category_mapping.keys()):\n",
        "    print(f\"Classe: {category}\")\n",
        "    print(f\"  Precisão: {precision[i]:.2f}\")\n",
        "    print(f\"  Revocação: {recall[i]:.2f}\")\n",
        "    print(f\"  F1-score: {f1[i]:.2f}\")"
      ],
      "metadata": {
        "id": "smwgi9ymCmgS"
      },
      "execution_count": null,
      "outputs": []
    },
    {
      "cell_type": "code",
      "source": [
        "import os\n",
        "\n",
        "# Diretório principal com as subpastas\n",
        "data_dir = \"Pepino_IA\"\n",
        "\n",
        "# Conta o número de imagens em cada categoria\n",
        "for category in os.listdir(data_dir):\n",
        "    category_path = os.path.join(data_dir, category)\n",
        "    image_count = len(os.listdir(category_path))\n",
        "    print(f\"Categoria: {category}, Imagens: {image_count}\")"
      ],
      "metadata": {
        "colab": {
          "base_uri": "https://localhost:8080/"
        },
        "id": "2axQeyrXCkFy",
        "outputId": "1b134715-3abc-4a7b-c288-b67e729c1b62"
      },
      "execution_count": null,
      "outputs": [
        {
          "output_type": "stream",
          "name": "stdout",
          "text": [
            "Categoria: Flowering, Imagens: 362\n",
            "Categoria: Fruiting_1, Imagens: 428\n",
            "Categoria: Fruiting_2, Imagens: 442\n",
            "Categoria: .ipynb_checkpoints, Imagens: 0\n",
            "Categoria: Healthy_Leaves, Imagens: 41\n",
            "Categoria: Unhealthy_Leaves, Imagens: 132\n"
          ]
        }
      ]
    },
    {
      "cell_type": "markdown",
      "source": [
        "Integração do modelo com o LLM, respondendo se está saudavel ou não, devido ao pouco tempo não consegui ajudar da forma que gostaria, mas sigo empenhado em continuar desenvolvendo o projeto."
      ],
      "metadata": {
        "id": "uJwhoOpKrWkh"
      }
    },
    {
      "cell_type": "code",
      "source": [
        "!pip install -q -U google-generativeai"
      ],
      "metadata": {
        "id": "q3qCFzDCLdEb"
      },
      "execution_count": 1,
      "outputs": []
    },
    {
      "cell_type": "code",
      "source": [
        "import google.generativeai as genai\n",
        "\n",
        "GOOGLE_API_KEY=\"INSIRA_SUA_API_KEY\"\n",
        "genai.configure(api_key=GOOGLE_API_KEY)"
      ],
      "metadata": {
        "id": "kuu2aZH_gpXK"
      },
      "execution_count": null,
      "outputs": []
    },
    {
      "cell_type": "code",
      "source": [
        "for m in genai.list_models():\n",
        "  if 'generateContent' in m.supported_generation_methods:\n",
        "    print(m.name)"
      ],
      "metadata": {
        "id": "hXsiUIwhg3l8"
      },
      "execution_count": null,
      "outputs": []
    },
    {
      "cell_type": "code",
      "source": [
        "generation_config = {\n",
        "  \"candidate_count\": 1,\n",
        "  \"temperature\": 0.5,\n",
        "}"
      ],
      "metadata": {
        "id": "CbfMvUxOhHFA"
      },
      "execution_count": null,
      "outputs": []
    },
    {
      "cell_type": "code",
      "source": [
        "model = genai.GenerativeModel(model_name='gemini-1.0-pro',\n",
        "                                  generation_config=generation_config,\n",
        "                                  safety_settings=safety_settings,)"
      ],
      "metadata": {
        "id": "chOWDUfVhKLr"
      },
      "execution_count": null,
      "outputs": []
    },
    {
      "cell_type": "code",
      "source": [
        "safety_settings={\n",
        "    'HATE': 'BLOCK_NONE',\n",
        "    'HARASSMENT': 'BLOCK_NONE',\n",
        "    'SEXUAL' : 'BLOCK_NONE',\n",
        "    'DANGEROUS' : 'BLOCK_NONE'\n",
        "    }"
      ],
      "metadata": {
        "id": "tmdFoQuthIwQ"
      },
      "execution_count": null,
      "outputs": []
    },
    {
      "cell_type": "code",
      "source": [
        "import requests\n",
        "from tensorflow.keras.preprocessing.image import load_img, img_to_array\n",
        "import numpy as np\n",
        "\n",
        " def classify_image_with_gemini(image_path):\n",
        "  gemini_api_endpoint = \"https://gemini.googleapis.com/v1/classify\"\n",
        "  api_key = \"INSIRA_SUA_API_KEY\"\n",
        "\n",
        "    # Carrega a imagem e converte para bytes\n",
        "    with open(image_path, \"rb\") as file:\n",
        "        image_bytes = file.read()\n",
        "\n",
        "    # Envia a imagem para a API Gemini\n",
        "    response = requests.post(\n",
        "        gemini_api_endpoint,\n",
        "        files={\"file\": image_bytes},\n",
        "        headers={\"Authorization\": \"Bearer {}\".format(api_key)}\n",
        "    )\n",
        "\n",
        "    if response.status_code == 200:\n",
        "        result = response.json()\n",
        "        return result.get(\"prediction\", \"Erro ao classificar a imagem\")\n",
        "    else:\n",
        "        return \"Erro ao classificar a imagem\"\n",
        "\n",
        "# Carrega a nova imagem\n",
        "image_path = 'Envie uma imagem de teste'\n",
        "img_width, img_height = 224, 224  # Tamanho esperado pelo modelo\n",
        "img = load_img(image_path, target_size=(img_width, img_height))\n",
        "\n",
        "# Converte a imagem para um array NumPy\n",
        "img_array = img_to_array(img)\n",
        "img_array = np.expand_dims(img_array, axis=0)\n",
        "\n",
        "# Faz a previsão usando o modelo treinado\n",
        "prediction = model.predict(img_array)\n",
        "\n",
        "# Obtém o índice da classe com maior probabilidade\n",
        "predicted_class_index = np.argmax(prediction)\n",
        "\n",
        "# Obtém o nome da classe prevista\n",
        "predicted_class = list(category_mapping.keys())[predicted_class_index]\n",
        "\n",
        "# Determina se a planta é saudável ou não com base na classe prevista\n",
        "if predicted_class == 'Healthy':\n",
        "    print(\"A planta é saudável.\")\n",
        "else:\n",
        "    print(\"A planta não é saudável.\")\n",
        "\n",
        "# Utiliza o Google Gemini para obter uma segunda opinião\n",
        "gemini_classification = classify_image_with_gemini(image_path)\n",
        "print(\"Classificação do Gemini:\", gemini_classification)"
      ],
      "metadata": {
        "id": "8gYcMwsPnbrD"
      },
      "execution_count": null,
      "outputs": []
    },
    {
      "cell_type": "markdown",
      "source": [
        "Tentei uma versão alternativa direto do Google Drive, mas não está concluido."
      ],
      "metadata": {
        "id": "cFuPTKdEoAyD"
      }
    },
    {
      "cell_type": "code",
      "source": [
        "#Versão para o Google Drive\n",
        "\n",
        "from pydrive.auth import GoogleAuth\n",
        "from pydrive.drive import GoogleDrive\n",
        "import os\n",
        "import shutil\n",
        "import random\n",
        "\n",
        "# --- Autenticação no Google Drive ---\n",
        "\n",
        "gauth = GoogleAuth()\n",
        "# Autenticação via navegador\n",
        "gauth.LocalWebserverAuth()\n",
        "drive = GoogleDrive(gauth)\n",
        "\n",
        "# ID da pasta \"Pepino_IA\" no Google Drive\n",
        "folder_id = 'Pepino_IA'\n",
        "\n",
        "# --- Baixar os arquivos da pasta para o diretório local ---\n",
        "\n",
        "file_list = drive.ListFile({'q': f\"'{folder_id}' in parents and trashed=false\"}).GetList()\n",
        "for file in file_list:\n",
        "    file.GetContentFile(file['title'])\n",
        "\n",
        "# Criar a pasta \"Pepino_IA\" localmente, se não existir\n",
        "local_data_dir = \"Pepino_IA\"\n",
        "os.makedirs(local_data_dir, exist_ok=True)\n",
        "\n",
        "# Mover os arquivos baixados para a pasta \"Pepino_IA\"\n",
        "for file in file_list:\n",
        "    shutil.move(file['title'], os.path.join(local_data_dir, file['title']))\n",
        "\n",
        "# --- Divisão das imagens ---\n",
        "\n",
        "# Diretório principal com as subpastas (agora local)\n",
        "data_dir = local_data_dir\n",
        "\n",
        "# Proporções para treino, validação e teste\n",
        "train_ratio = 0.7\n",
        "val_ratio = 0.15\n",
        "test_ratio = 0.15\n",
        "\n",
        "# Cria as pastas de destino\n",
        "os.makedirs(\"treino\", exist_ok=True)\n",
        "os.makedirs(\"validacao\", exist_ok=True)\n",
        "os.makedirs(\"teste\", exist_ok=True)\n",
        "\n",
        "# Itera pelas subpastas de categorias\n",
        "for category in os.listdir(data_dir):\n",
        "    category_path = os.path.join(data_dir, category)\n",
        "\n",
        "    # Lista as imagens na subpasta\n",
        "    images = os.listdir(category_path)\n",
        "    random.shuffle(images)  # Embaralha as imagens\n",
        "\n",
        "    # Calcula o número de imagens para cada conjunto\n",
        "    train_count = int(len(images) * train_ratio)\n",
        "    val_count = int(len(images) * val_ratio)\n",
        "    test_count = len(images) - train_count - val_count\n",
        "\n",
        "    # Divide as imagens\n",
        "    train_images = images[:train_count]\n",
        "    val_images = images[train_count:train_count + val_count]\n",
        "    test_images = images[train_count + val_count:]\n",
        "\n",
        "    # Copia as imagens para as pastas de destino\n",
        "    for image in train_images:\n",
        "        src_path = os.path.join(category_path, image)\n",
        "        dest_path = os.path.join(\"treino\", category, image)\n",
        "        shutil.copy(src_path, dest_path)\n",
        "\n",
        "    for image in val_images:\n",
        "        src_path = os.path.join(category_path, image)\n",
        "        dest_path = os.path.join(\"validacao\", category, image)\n",
        "        shutil.copy(src_path, dest_path)\n",
        "\n",
        "    for image in test_images:\n",
        "        src_path = os.path.join(category_path, image)\n",
        "        dest_path = os.path.join(\"teste\", category, image)\n",
        "        shutil.copy(src_path, dest_path)\n",
        "\n",
        "print(\"Divisão dos dados concluída.\")"
      ],
      "metadata": {
        "id": "b9Jr5DcQr2g_"
      },
      "execution_count": null,
      "outputs": []
    },
    {
      "cell_type": "code",
      "source": [],
      "metadata": {
        "id": "h6X0Xq6A4HWX"
      },
      "execution_count": null,
      "outputs": []
    }
  ]
}